{
 "cells": [
  {
   "cell_type": "code",
   "execution_count": 1,
   "metadata": {},
   "outputs": [],
   "source": [
    "import requests\n",
    "import gzip\n",
    "import shutil"
   ]
  },
  {
   "cell_type": "code",
   "execution_count": 2,
   "metadata": {},
   "outputs": [],
   "source": [
    "def extract_data(url, file_path):\n",
    "    '''\n",
    "    method to extract data\n",
    "    '''\n",
    "    with requests.session() as c:\n",
    "        r = requests.get(url, allow_redirects=True)\n",
    "        open(file_path, 'wb').write(r.content)\n",
    "\n",
    "    with gzip.open(file_path, 'rb') as f_in:\n",
    "        with open(file_path[:-3], 'wb') as f_out:\n",
    "            shutil.copyfileobj(f_in, f_out)"
   ]
  },
  {
   "cell_type": "code",
   "execution_count": 3,
   "metadata": {},
   "outputs": [],
   "source": [
    "# urls\n",
    "basics_url = 'https://datasets.imdbws.com/title.basics.tsv.gz'\n",
    "rating_url = 'https://datasets.imdbws.com/title.ratings.tsv.gz'\n",
    "\n",
    "extract_data(basics_url,'title.basics.tsv.gz')\n",
    "extract_data(rating_url,'title.ratings.tsv.gz')"
   ]
  },
  {
   "cell_type": "code",
   "execution_count": 5,
   "metadata": {},
   "outputs": [
    {
     "name": "stderr",
     "output_type": "stream",
     "text": [
      "c:\\python35\\lib\\site-packages\\IPython\\core\\interactiveshell.py:2728: DtypeWarning: Columns (5) have mixed types. Specify dtype option on import or set low_memory=False.\n",
      "  interactivity=interactivity, compiler=compiler, result=result)\n"
     ]
    }
   ],
   "source": [
    "import pandas as pd\n",
    "import os\n",
    "\n",
    "basics_data_path = os.path.join(os.getcwd(), 'title.basics.tsv')\n",
    "ratings_data_path = os.path.join(os.getcwd(), 'title.ratings.tsv')\n",
    "basicsDf = pd.read_csv(basics_data_path, sep='\\t')\n",
    "  \n",
    "ratingsDf = pd.read_csv(ratings_data_path, sep='\\t')\n",
    "new_df = pd.merge(ratingsDf, basicsDf, on='tconst')"
   ]
  },
  {
   "cell_type": "code",
   "execution_count": 13,
   "metadata": {},
   "outputs": [
    {
     "name": "stdout",
     "output_type": "stream",
     "text": [
      "           tconst  averageRating  numVotes titleType  \\\n",
      "759431  tt5813916            9.6     94914     movie   \n",
      "78394   tt0111161            9.3   1927527     movie   \n",
      "42947   tt0068646            9.2   1318147     movie   \n",
      "45420   tt0071562            9.0    910562     movie   \n",
      "232197  tt0468569            9.0   1898605     movie   \n",
      "\n",
      "                    primaryTitle             originalTitle  isAdult startYear  \\\n",
      "759431           The Mountain II                    Dag II        0      2016   \n",
      "78394   The Shawshank Redemption  The Shawshank Redemption        0      1994   \n",
      "42947              The Godfather             The Godfather        0      1972   \n",
      "45420     The Godfather: Part II    The Godfather: Part II        0      1974   \n",
      "232197           The Dark Knight           The Dark Knight        0      2008   \n",
      "\n",
      "       endYear runtimeMinutes                 genres  \n",
      "759431      \\N            135              Drama,War  \n",
      "78394       \\N            142            Crime,Drama  \n",
      "42947       \\N            175            Crime,Drama  \n",
      "45420       \\N            202            Crime,Drama  \n",
      "232197      \\N            152  Action,Crime,Thriller  \n"
     ]
    }
   ],
   "source": [
    "sortedRatingsDf = new_df.sort_values(by=['averageRating'],ascending=False)\n",
    "# Only select the movies with more than 50000 votes\n",
    "withLargeVotesDf = sortedRatingsDf.loc[(sortedRatingsDf['numVotes'] > 50000) & (sortedRatingsDf['titleType'].isin(['movie']))]\n",
    "print(withLargeVotesDf.head())"
   ]
  },
  {
   "cell_type": "code",
   "execution_count": 14,
   "metadata": {},
   "outputs": [],
   "source": [
    "writer = pd.ExcelWriter('Top500Movies.xlsx')\n",
    "withLargeVotesDf.head(500).to_excel(writer,'Sheet1')\n",
    "writer.save()"
   ]
  },
  {
   "cell_type": "code",
   "execution_count": null,
   "metadata": {},
   "outputs": [],
   "source": []
  }
 ],
 "metadata": {
  "kernelspec": {
   "display_name": "Python 3",
   "language": "python",
   "name": "python3"
  },
  "language_info": {
   "codemirror_mode": {
    "name": "ipython",
    "version": 3
   },
   "file_extension": ".py",
   "mimetype": "text/x-python",
   "name": "python",
   "nbconvert_exporter": "python",
   "pygments_lexer": "ipython3",
   "version": "3.5.0"
  }
 },
 "nbformat": 4,
 "nbformat_minor": 2
}
